{
 "cells": [
  {
   "cell_type": "markdown",
   "metadata": {},
   "source": [
    "# Problem Statement:\n",
    "## Task 2\n",
    "\n",
    "The bit-flip code and the sign-flip code (you can find a description of both [here](https://en.wikipedia.org/wiki/Quantum_error_correction)) are two very simple circuits able to detect and fix the bit-flip and the sign-flip errors, respectively.\n",
    "\n",
    "1. Build the following simple circuit to prepare the Bell state:\n",
    "\n",
    "![Bell State generating circuit](bell-circuit.png)\n",
    "\n",
    "2. Now add, right before the CNOT gate and for each of the two qubits, an arbitrary \"error gate\". By error gate, we mean that with a certain probability (that you can decide but must be non-zero for all the choices) you have a 1-qubit unitary which can be either the identity, or the $X$ gate (bit-flip error) or the $Z$ gate (sign-flip error).\n",
    "3. Encode each of the two qubits with a sign-flip or bit-flip code, in such a way that **all the possible** choices for the error gates described in (2), occurring on the logical qubits, can be detected and fixed. Motivate your choice. This is the most non-trivial part of the problem, so do it with a lot of care!\n",
    "4. Test your solution by making measurements over the final state and testing that the results are in line with the expectation.\n"
   ]
  },
  {
   "cell_type": "code",
   "execution_count": 1,
   "metadata": {},
   "outputs": [],
   "source": [
    "from qiskit import QuantumCircuit\n",
    "from qiskit import execute, Aer\n",
    "from qiskit.visualization import plot_histogram\n",
    "\n",
    "from matplotlib import pyplot as plt\n",
    "\n",
    "%matplotlib inline\n",
    "\n",
    "import numpy as np\n",
    "\n",
    "sv_sim = Aer.get_backend('statevector_simulator')\n",
    "qasm_sum = Aer.get_backend('qasm_simulator')"
   ]
  },
  {
   "cell_type": "markdown",
   "metadata": {},
   "source": [
    "### 1. Circuit with no errors"
   ]
  },
  {
   "cell_type": "code",
   "execution_count": 2,
   "metadata": {},
   "outputs": [
    {
     "data": {
      "text/html": [
       "<pre style=\"word-wrap: normal;white-space: pre;background: #fff0;line-height: 1.1;font-family: &quot;Courier New&quot;,Courier,monospace\">     ┌───┐     \n",
       "q_0: ┤ H ├──■──\n",
       "     └───┘┌─┴─┐\n",
       "q_1: ─────┤ X ├\n",
       "          └───┘</pre>"
      ],
      "text/plain": [
       "     ┌───┐     \n",
       "q_0: ┤ H ├──■──\n",
       "     └───┘┌─┴─┐\n",
       "q_1: ─────┤ X ├\n",
       "          └───┘"
      ]
     },
     "execution_count": 2,
     "metadata": {},
     "output_type": "execute_result"
    }
   ],
   "source": [
    "qc_1 = QuantumCircuit(2)    # Create the quantum circuit object with 2 qubits\n",
    "qc_1.h(0)                   # Add a Hadamard gate on the first qubit\n",
    "qc_1.cx(0,1)                # Add a CNOT gate with first qubit as control and second as target\n",
    "\n",
    "qc_1.draw()                 # Display the circuit"
   ]
  },
  {
   "cell_type": "markdown",
   "metadata": {},
   "source": [
    "#### Running Circuit 1\n",
    "\n",
    "With no errors, this circuit should produce the Bell state:\n",
    "$$ |\\beta_{00}\\rangle = \\frac{|00\\rangle + |11\\rangle}{\\sqrt{2}} $$\n",
    "\n",
    "Upon measuring this state, we should observe these statistics:\n",
    "\n",
    "|**Measured State**|**Probability**|\n",
    "|:----------------:|--------------:|\n",
    "|00|0.5|\n",
    "|01|0.0|\n",
    "|10|0.0|\n",
    "|11|0.5|"
   ]
  },
  {
   "cell_type": "code",
   "execution_count": 3,
   "metadata": {},
   "outputs": [
    {
     "name": "stdout",
     "output_type": "stream",
     "text": [
      "Output state vector:  [0.70710678+0.j 0.        +0.j 0.        +0.j 0.70710678+0.j]\n"
     ]
    },
    {
     "data": {
      "image/png": "[encoded data removed]",
      "text/plain": [
       "<Figure size 504x360 with 1 Axes>"
      ]
     },
     "execution_count": 3,
     "metadata": {},
     "output_type": "execute_result"
    }
   ],
   "source": [
    "result = execute(qc_1,sv_sim).result()\n",
    "print('Output state vector: ', result.get_statevector())\n",
    "\n",
    "counts = result.get_counts()\n",
    "plot_histogram(counts)"
   ]
  },
  {
   "cell_type": "markdown",
   "metadata": {},
   "source": [
    "### 2. Circuit prone to errors, without error correction\n",
    "\n",
    "Now, each qubit is subject to a random error before the CNOT gate. For each qubit the probability of encountering an $X$ error is $p$, the probability of encountering a $Z$ error is $p$ and thus, the probability of no error is $1-2p$.\n",
    "\n",
    "You can adjust the value of p in the cell below:"
   ]
  },
  {
   "cell_type": "code",
   "execution_count": 4,
   "metadata": {},
   "outputs": [],
   "source": [
    "p=0.3"
   ]
  },
  {
   "cell_type": "markdown",
   "metadata": {},
   "source": [
    "The next cell defines a function that will add a random error gate the circuit.\n",
    "\n",
    "* `qubit`: The index of the qubit to add the error gate to\n",
    "* `prob`: The probability of the error gates occuring (assumes every error is equally likely)\n",
    "* `error_gates`: A list of possible error gates (pass in the form `[quantumCircuit.gate0, ...]`)"
   ]
  },
  {
   "cell_type": "code",
   "execution_count": 5,
   "metadata": {},
   "outputs": [],
   "source": [
    "def addDiscreteErrorGate(qubit, prob, error_gates):\n",
    "    n = len(error_gates)\n",
    "    \n",
    "    # Check to make sure n*prob<=1\n",
    "    if(n*prob > 1):\n",
    "        raise ValueError('The entered probability is invalid, {}*prob > 1'.format(n))\n",
    "    \n",
    "    rand = np.random.uniform(0,1)\n",
    "    #print(rand) # Debugging line\n",
    "    \n",
    "    # Apply error_gate[i] if the randomly generated number is between i*prob and (i+1)*prob\n",
    "    for i in range(n):\n",
    "        if rand < (i+1)*prob:\n",
    "            error_gates[i](qubit)\n",
    "            return\n",
    "    "
   ]
  },
  {
   "cell_type": "markdown",
   "metadata": {},
   "source": [
    "The next cell defines a circuit that implements this random error."
   ]
  },
  {
   "cell_type": "code",
   "execution_count": 6,
   "metadata": {},
   "outputs": [
    {
     "data": {
      "text/html": [
       "<pre style=\"word-wrap: normal;white-space: pre;background: #fff0;line-height: 1.1;font-family: &quot;Courier New&quot;,Courier,monospace\">     ┌───┐     \n",
       "q_0: ┤ H ├──■──\n",
       "     └───┘┌─┴─┐\n",
       "q_1: ─────┤ X ├\n",
       "          └───┘</pre>"
      ],
      "text/plain": [
       "     ┌───┐     \n",
       "q_0: ┤ H ├──■──\n",
       "     └───┘┌─┴─┐\n",
       "q_1: ─────┤ X ├\n",
       "          └───┘"
      ]
     },
     "execution_count": 6,
     "metadata": {},
     "output_type": "execute_result"
    }
   ],
   "source": [
    "def genCircuit2(prob):\n",
    "    qc = QuantumCircuit(2)\n",
    "    qc.h(0)\n",
    "\n",
    "    addDiscreteErrorGate(0,prob,[qc.x, qc.z])\n",
    "    addDiscreteErrorGate(1,prob,[qc.x, qc.z])\n",
    "\n",
    "    qc.cx(0,1)\n",
    "    \n",
    "    return qc\n",
    "\n",
    "qc_2=genCircuit2(p)\n",
    "qc_2.draw()"
   ]
  },
  {
   "cell_type": "code",
   "execution_count": 7,
   "metadata": {},
   "outputs": [
    {
     "name": "stdout",
     "output_type": "stream",
     "text": [
      "Output state vector:  [0.70710678+0.j 0.        +0.j 0.        +0.j 0.70710678+0.j]\n"
     ]
    },
    {
     "data": {
      "image/png": "[encoded data removed]",
      "text/plain": [
       "<Figure size 504x360 with 1 Axes>"
      ]
     },
     "execution_count": 7,
     "metadata": {},
     "output_type": "execute_result"
    }
   ],
   "source": [
    "result = execute(qc_2,sv_sim).result()\n",
    "print('Output state vector: ', result.get_statevector())\n",
    "\n",
    "counts = result.get_counts()\n",
    "plot_histogram(counts)"
   ]
  },
  {
   "cell_type": "markdown",
   "metadata": {},
   "source": [
    "#### Running Circuit 2\n",
    "\n",
    "In the above cell I displayed the output state and measurement statistics of **one instance** of Circuit 2. Since there are multiple possible ways in which the error can manifest in this circuit, it would make more sense to look at the fidelity of the circuit.\n",
    "\n",
    "Fidelity is a measure of \"how close\" two quantum states are. For the pure state $|\\psi\\rangle$, that is the output of the error-prone circuit, and $|\\phi\\rangle$ that is the output of the error-free circuit, the fidelity is calculated as:\n",
    "$$ F = |\\langle \\psi | \\phi \\rangle |^2 $$\n",
    "\n",
    "We can measure the average fidelity by doing the above calculation for multiple instances of Circuit 2."
   ]
  },
  {
   "cell_type": "code",
   "execution_count": 8,
   "metadata": {},
   "outputs": [],
   "source": [
    "N = 250 # Number of trials\n",
    "\n",
    "phi = np.array([(1.0+0.0j)/np.sqrt(2),0.0j,0.0j,(1.0+0.0j)/np.sqrt(2)])\n",
    "\n",
    "probs = np.linspace(0,0.5,20)\n",
    "\n",
    "F = []\n",
    "\n",
    "for prob in probs:\n",
    "    fidelities = []\n",
    "    for i in range(N):\n",
    "        circ = genCircuit2(prob)\n",
    "        psi = execute(circ,sv_sim).result().get_statevector()\n",
    "    \n",
    "        fidelities.append(np.abs(np.vdot(psi,phi))**2)\n",
    "    F.append(np.average(fidelities))"
   ]
  },
  {
   "cell_type": "markdown",
   "metadata": {},
   "source": [
    "Given that they occur immediately after the Hadamard gate, the $X$ and $Z$ errors can only map the output onto one of the Bell states. The inner product $\\langle\\phi|\\psi\\rangle = 1$ if $|\\psi\\rangle=|\\beta_{00}\\rangle$, and $0$ otherwise and the fidelities take on the same values.\n",
    "\n",
    "The errors that keep the output $|\\beta_{00}\\rangle$ are: $I_1I_2, I_1Z_2, X_1I_2,$ and $X_1Z_2 $ and so the expected fidelity for Circuit 2 can be calculated:\n",
    "$$ F = (1-2p)^2 + (1-2p)p + p(1-2p) + p^2 = 1 - 2p + p^2 $$"
   ]
  },
  {
   "cell_type": "code",
   "execution_count": 9,
   "metadata": {},
   "outputs": [
    {
     "data": {
      "text/plain": [
       "<matplotlib.legend.Legend at 0x27f4f455748>"
      ]
     },
     "execution_count": 9,
     "metadata": {},
     "output_type": "execute_result"
    },
    {
     "data": {
      "image/png": "[encoded data removed]",
      "text/plain": [
       "<Figure size 864x432 with 1 Axes>"
      ]
     },
     "metadata": {
      "needs_background": "light"
     },
     "output_type": "display_data"
    }
   ],
   "source": [
    "expected = 1 - 2*probs + probs**2 \n",
    "\n",
    "fig = plt.figure(figsize=(12,6))\n",
    "\n",
    "plt.title('Fidelity for Circuit 2')\n",
    "\n",
    "plt.plot(probs,F,label='Measured')\n",
    "plt.plot(probs,expected,label='Exptected')\n",
    "\n",
    "plt.xlabel('p')\n",
    "plt.ylabel('Fidelity')\n",
    "\n",
    "plt.ylim([0,1.05])\n",
    "\n",
    "plt.legend()"
   ]
  },
  {
   "cell_type": "markdown",
   "metadata": {},
   "source": [
    "### 3. Circuit prone to errors, with error correction\n",
    "\n",
    "I'll be using the Steane 7-qubit stabilizer code to do error correction.\n",
    "\n",
    "#### Initialization\n",
    "The Stabilizer generators for the code are\n",
    "\n",
    "Name |Operator\n",
    ":---:|:-------\n",
    "$g_1$| $$I_1I_2I_3X_4X_5X_6X_7$$\n",
    "$g_2$| $$I_1X_2X_3I_4I_5X_6X_7$$\n",
    "$g_3$| $$X_1I_2X_3I_4X_5I_6X_7$$\n",
    "$g_4$| $$I_1I_2I_3Z_4Z_5Z_6Z_7$$\n",
    "$g_5$| $$I_1Z_2Z_3I_4I_5Z_6Z_7$$\n",
    "$g_6$| $$Z_1I_2Z_3I_4Z_5I_6Z_7$$\n",
    "\n",
    "The group of operators generated by the above generators $S=\\langle g_1,g_2,g_3,g_4,g_5,g_6 \\rangle$ is called the stabilizer\n",
    "group for the code. The logical qubit states are unaffected by any operator $g \\in S$, i.e. $g|\\psi\\rangle = |\\psi\\rangle$. \n",
    "\n",
    "We can get the logical $|0\\rangle$ state by the projective measurement:\n",
    "\n",
    "$$\n",
    "|\\bar{0}\\rangle = \n",
    "\\left(\\frac{I+g_1}{\\sqrt{2}}\\right)\n",
    "\\left(\\frac{I+g_2}{\\sqrt{2}}\\right)\n",
    "\\left(\\frac{I+g_3}{\\sqrt{2}}\\right)\n",
    "\\left(\\frac{I+g_4}{\\sqrt{2}}\\right)\n",
    "\\left(\\frac{I+g_5}{\\sqrt{2}}\\right)\n",
    "\\left(\\frac{I+g_6}{\\sqrt{2}}\\right)\n",
    "|0\\rangle^{\\otimes 7}\n",
    "$$\n",
    "$$ |\\bar{0}\\rangle = \\frac{1}{\\sqrt{8}}[|0000000\\rangle + |1111000\\rangle + |1100110\\rangle + |1010101\\rangle +\n",
    "                                        |0011110\\rangle + |0101101\\rangle + |0110011\\rangle + |1001011\\rangle]\n",
    "$$\n",
    "\n",
    "[//]:# \"$$ |\\bar{1}\\rangle = \\frac{1}{\\sqrt{8}}[|0000111\\rangle + |1111111\\rangle + |1100001\\rangle + |1010010\\rangle +\n",
    "                                        |0011001\\rangle + |0101010\\rangle + |0110100\\rangle + |1001100\\rangle] $$\"\n",
    "\n",
    "We can initialize the $|0\\rangle^{\\otimes 7}$ state to the logical 0 state with the following circuit:\n",
    "![Circuit Diagram for the Initialization Circuit](steane-init-circuit.png)\n",
    "\n",
    "The six qubits on top are ancillas, and the bottom 7 will encode the $|\\bar{0}\\rangle$ state.\n",
    "\n",
    "Since each of the generators can be written as tensor products of $X$ and $I$ or $Z$ and $I$, the controlled-$g_i$ gates can be\n",
    "implemented using a sequence of controlled-$X$ and controlled-$Z$ gates."
   ]
  },
  {
   "cell_type": "code",
   "execution_count": null,
   "metadata": {},
   "outputs": [],
   "source": []
  },
  {
   "cell_type": "markdown",
   "metadata": {},
   "source": [
    "#### Applying Gates in the Code Subspace\n",
    "The logical $X$ and $Z$ gates for the Steane code are:\n",
    "$$ \\bar{X} = X_1X_2X_3X_4X_5X_6X_7 $$\n",
    "$$ \\bar{Z} = Z_1Z_2Z_3Z_4Z_5Z_6Z_7 $$\n",
    "\n",
    "Under the stabilizer formalism, if we wish to apply a unitary operator, $U$, on our logical qubit, we have for all $g\\in S$:\n",
    "$$ U|\\psi\\rangle = Ug|\\psi\\rangle = UgU^\\dagger U|\\psi\\rangle $$\n",
    "So the group $USU^\\dagger = \\{ UgU^\\dagger | g \\in S \\}$ stabilizes $U|\\psi\\rangle$. We are interested in the unitaries for which $USU^\\dagger = S$ because this implies that the output of the unitary will also be in the code space, allowing us to do logical computations with them.\n",
    "\n",
    "##### Logical Hadamard Gate\n",
    "For a single qubit, the Hadamard gate has the folliwing properties:\n",
    "$$ HXH^\\dagger = Z $$\n",
    "$$ HZH^\\dagger = X $$\n",
    "$$ HIH^\\dagger = I $$\n",
    "\n",
    "and so the logical Hadamard gate acting on the code space must follow the first two properties for the logical $X$ and $Z$ gates:\n",
    "$$ \\bar{H}\\bar{X}\\bar{H}^\\dagger = \\bar{Z} $$\n",
    "$$ \\bar{H}\\bar{Z}\\bar{H}^\\dagger = \\bar{X} $$\n",
    "\n",
    "Defining\n",
    "$$ \\bar{H} = H_1 H_2 H_3 H_4 H_5 H_6 H_7 $$ \n",
    "clearly satisfies this property and moreover, $\\bar{H}S\\bar{H}^\\dagger = S$ (since the generators are just permuted under this conjugation)."
   ]
  },
  {
   "cell_type": "code",
   "execution_count": null,
   "metadata": {},
   "outputs": [],
   "source": []
  },
  {
   "cell_type": "markdown",
   "metadata": {},
   "source": [
    "##### Logical CNOT Gate\n",
    "For two qubits, "
   ]
  },
  {
   "cell_type": "code",
   "execution_count": null,
   "metadata": {},
   "outputs": [],
   "source": []
  },
  {
   "cell_type": "markdown",
   "metadata": {},
   "source": [
    "#### Measurement\n"
   ]
  },
  {
   "cell_type": "code",
   "execution_count": null,
   "metadata": {},
   "outputs": [],
   "source": []
  },
  {
   "cell_type": "markdown",
   "metadata": {},
   "source": [
    "#### Introducing Single Qubit Errors in the Circuit"
   ]
  },
  {
   "cell_type": "code",
   "execution_count": null,
   "metadata": {},
   "outputs": [],
   "source": []
  },
  {
   "cell_type": "markdown",
   "metadata": {},
   "source": [
    "#### Error Correction"
   ]
  },
  {
   "cell_type": "code",
   "execution_count": null,
   "metadata": {},
   "outputs": [],
   "source": []
  },
  {
   "cell_type": "markdown",
   "metadata": {},
   "source": [
    "#### Verifying the results"
   ]
  },
  {
   "cell_type": "code",
   "execution_count": null,
   "metadata": {},
   "outputs": [],
   "source": []
  }
 ],
 "metadata": {
  "kernelspec": {
   "display_name": "Python 3",
   "language": "python",
   "name": "python3"
  },
  "language_info": {
   "codemirror_mode": {
    "name": "ipython",
    "version": 3
   },
   "file_extension": ".py",
   "mimetype": "text/x-python",
   "name": "python",
   "nbconvert_exporter": "python",
   "pygments_lexer": "ipython3",
   "version": "3.7.9"
  }
 },
 "nbformat": 4,
 "nbformat_minor": 2
}
