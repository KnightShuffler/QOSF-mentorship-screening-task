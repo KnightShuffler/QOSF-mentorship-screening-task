{
 "cells": [
  {
   "cell_type": "markdown",
   "metadata": {},
   "source": [
    "# Problem Statement:\n",
    "## Task 2\n",
    "\n",
    "The bit-flip code and the sign-flip code (you can find a description of both [here](https://en.wikipedia.org/wiki/Quantum_error_correction)) are two very simple circuits able to detect and fix the bit-flip and the sign-flip errors, respectively.\n",
    "\n",
    "1. Build the following simple circuit to prepare the Bell state:\n",
    "\n",
    "![Bell State generating circuit](bell-circuit.png)\n",
    "\n",
    "2. Now add, right before the CNOT gate and for each of the two qubits, an arbitrary \"error gate\". By error gate, we mean that with a certain probability (that you can decide but must be non-zero for all the choices) you have a 1-qubit unitary which can be either the identity, or the $X$ gate (bit-flip error) or the $Z$ gate (sign-flip error).\n",
    "3. Encode each of the two qubits with a sign-flip or bit-flip code, in such a way that **all the possible** choices for the error gates described in (2), occurring on the logical qubits, can be detected and fixed. Motivate your choice. This is the most non-trivial part of the problem, so do it with a lot of care!\n",
    "4. Test your solution by making measurements over the final state and testing that the results are in line with the expectation.\n"
   ]
  },
  {
   "cell_type": "code",
   "execution_count": 168,
   "metadata": {},
   "outputs": [],
   "source": [
    "from qiskit import QuantumCircuit, QuantumRegister, ClassicalRegister\n",
    "from qiskit import execute, Aer\n",
    "from qiskit.providers.aer import QasmSimulator\n",
    "from qiskit.visualization import plot_histogram\n",
    "\n",
    "from matplotlib import pyplot as plt\n",
    "\n",
    "%matplotlib inline\n",
    "\n",
    "import numpy as np\n",
    "\n",
    "sv_sim = Aer.get_backend('statevector_simulator')\n",
    "qasm_sim = QasmSimulator(method='extended_stabilizer')"
   ]
  },
  {
   "cell_type": "markdown",
   "metadata": {},
   "source": [
    "### 1. Circuit with no errors"
   ]
  },
  {
   "cell_type": "code",
   "execution_count": 113,
   "metadata": {},
   "outputs": [
    {
     "data": {
      "text/html": [
       "<pre style=\"word-wrap: normal;white-space: pre;background: #fff0;line-height: 1.1;font-family: &quot;Courier New&quot;,Courier,monospace\">     ┌───┐     \n",
       "q_0: ┤ H ├──■──\n",
       "     └───┘┌─┴─┐\n",
       "q_1: ─────┤ X ├\n",
       "          └───┘</pre>"
      ],
      "text/plain": [
       "     ┌───┐     \n",
       "q_0: ┤ H ├──■──\n",
       "     └───┘┌─┴─┐\n",
       "q_1: ─────┤ X ├\n",
       "          └───┘"
      ]
     },
     "execution_count": 113,
     "metadata": {},
     "output_type": "execute_result"
    }
   ],
   "source": [
    "qc_1 = QuantumCircuit(2)    # Create the quantum circuit object with 2 qubits\n",
    "qc_1.h(0)                   # Add a Hadamard gate on the first qubit\n",
    "qc_1.cx(0,1)                # Add a CNOT gate with first qubit as control and second as target\n",
    "\n",
    "qc_1.draw()                 # Display the circuit"
   ]
  },
  {
   "cell_type": "markdown",
   "metadata": {},
   "source": [
    "#### Running Circuit 1\n",
    "\n",
    "With no errors, this circuit should produce the Bell state:\n",
    "$$ |\\beta_{00}\\rangle = \\frac{|00\\rangle + |11\\rangle}{\\sqrt{2}} $$\n",
    "\n",
    "Upon measuring this state, we should observe these statistics:\n",
    "\n",
    "|**Measured State**|**Probability**|\n",
    "|:----------------:|--------------:|\n",
    "|00|0.5|\n",
    "|01|0.0|\n",
    "|10|0.0|\n",
    "|11|0.5|"
   ]
  },
  {
   "cell_type": "code",
   "execution_count": 114,
   "metadata": {},
   "outputs": [
    {
     "name": "stdout",
     "output_type": "stream",
     "text": [
      "Output state vector:  [0.70710678+0.j 0.        +0.j 0.        +0.j 0.70710678+0.j]\n"
     ]
    },
    {
     "data": {
      "image/png": "[encoded data removed]",
      "text/plain": [
       "<Figure size 504x360 with 1 Axes>"
      ]
     },
     "execution_count": 114,
     "metadata": {},
     "output_type": "execute_result"
    }
   ],
   "source": [
    "result = execute(qc_1,sv_sim).result()\n",
    "print('Output state vector: ', result.get_statevector())\n",
    "\n",
    "counts = result.get_counts()\n",
    "plot_histogram(counts)"
   ]
  },
  {
   "cell_type": "markdown",
   "metadata": {},
   "source": [
    "### 2. Circuit prone to errors, without error correction\n",
    "\n",
    "Now, each qubit is subject to a random error before the CNOT gate. For each qubit the probability of encountering an $X$ error is $p$, the probability of encountering a $Z$ error is $p$ and thus, the probability of no error is $1-2p$.\n",
    "\n",
    "You can adjust the value of p in the cell below:"
   ]
  },
  {
   "cell_type": "code",
   "execution_count": 115,
   "metadata": {},
   "outputs": [],
   "source": [
    "p=0.3"
   ]
  },
  {
   "cell_type": "markdown",
   "metadata": {},
   "source": [
    "The next cell defines a function that will add a random error gate the circuit.\n",
    "\n",
    "* `qubit`: The index of the qubit to add the error gate to\n",
    "* `prob`: The probability of the error gates occuring (assumes every error is equally likely)\n",
    "* `error_gates`: A list of possible error gates (pass in the form `[quantumCircuit.gate0, ...]`)"
   ]
  },
  {
   "cell_type": "code",
   "execution_count": 116,
   "metadata": {},
   "outputs": [],
   "source": [
    "def addDiscreteErrorGate(qubit, prob, error_gates):\n",
    "    n = len(error_gates)\n",
    "    \n",
    "    # Check to make sure n*prob<=1\n",
    "    if(n*prob > 1):\n",
    "        raise ValueError('The entered probability is invalid, {}*prob > 1'.format(n))\n",
    "    \n",
    "    rand = np.random.uniform(0,1)\n",
    "    #print(rand) # Debugging line\n",
    "    \n",
    "    # Apply error_gate[i] if the randomly generated number is between i*prob and (i+1)*prob\n",
    "    for i in range(n):\n",
    "        if rand < (i+1)*prob:\n",
    "            error_gates[i](qubit)\n",
    "            return\n",
    "    "
   ]
  },
  {
   "cell_type": "markdown",
   "metadata": {},
   "source": [
    "The next cell defines a circuit that implements this random error."
   ]
  },
  {
   "cell_type": "code",
   "execution_count": 117,
   "metadata": {},
   "outputs": [
    {
     "data": {
      "text/html": [
       "<pre style=\"word-wrap: normal;white-space: pre;background: #fff0;line-height: 1.1;font-family: &quot;Courier New&quot;,Courier,monospace\">     ┌───┐┌───┐     \n",
       "q_0: ┤ H ├┤ Z ├──■──\n",
       "     ├───┤└───┘┌─┴─┐\n",
       "q_1: ┤ X ├─────┤ X ├\n",
       "     └───┘     └───┘</pre>"
      ],
      "text/plain": [
       "     ┌───┐┌───┐     \n",
       "q_0: ┤ H ├┤ Z ├──■──\n",
       "     ├───┤└───┘┌─┴─┐\n",
       "q_1: ┤ X ├─────┤ X ├\n",
       "     └───┘     └───┘"
      ]
     },
     "execution_count": 117,
     "metadata": {},
     "output_type": "execute_result"
    }
   ],
   "source": [
    "def genCircuit2(prob):\n",
    "    qc = QuantumCircuit(2)\n",
    "    qc.h(0)\n",
    "\n",
    "    addDiscreteErrorGate(0,prob,[qc.x, qc.z])\n",
    "    addDiscreteErrorGate(1,prob,[qc.x, qc.z])\n",
    "\n",
    "    qc.cx(0,1)\n",
    "    \n",
    "    return qc\n",
    "\n",
    "qc_2=genCircuit2(p)\n",
    "qc_2.draw()"
   ]
  },
  {
   "cell_type": "code",
   "execution_count": 118,
   "metadata": {},
   "outputs": [
    {
     "name": "stdout",
     "output_type": "stream",
     "text": [
      "Output state vector:  [ 0.        +0.j -0.70710678+0.j  0.70710678+0.j -0.        +0.j]\n"
     ]
    },
    {
     "data": {
      "image/png": "[encoded data removed]",
      "text/plain": [
       "<Figure size 504x360 with 1 Axes>"
      ]
     },
     "execution_count": 118,
     "metadata": {},
     "output_type": "execute_result"
    }
   ],
   "source": [
    "result = execute(qc_2,sv_sim).result()\n",
    "print('Output state vector: ', result.get_statevector())\n",
    "\n",
    "counts = result.get_counts()\n",
    "plot_histogram(counts)"
   ]
  },
  {
   "cell_type": "markdown",
   "metadata": {},
   "source": [
    "#### Running Circuit 2\n",
    "\n",
    "In the above cell I displayed the output state and measurement statistics of **one instance** of Circuit 2. Since there are multiple possible ways in which the error can manifest in this circuit, it would make more sense to look at the fidelity of the circuit.\n",
    "\n",
    "Fidelity is a measure of \"how close\" two quantum states are. For the pure state $|\\psi\\rangle$, that is the output of the error-prone circuit, and $|\\phi\\rangle$ that is the output of the error-free circuit, the fidelity is calculated as:\n",
    "$$ F = |\\langle \\psi | \\phi \\rangle |^2 $$\n",
    "\n",
    "We can measure the average fidelity by doing the above calculation for multiple instances of Circuit 2."
   ]
  },
  {
   "cell_type": "code",
   "execution_count": 119,
   "metadata": {},
   "outputs": [],
   "source": [
    "N = 250 # Number of trials\n",
    "\n",
    "phi = np.array([(1.0+0.0j)/np.sqrt(2),0.0j,0.0j,(1.0+0.0j)/np.sqrt(2)])\n",
    "\n",
    "probs = np.linspace(0,0.5,20)\n",
    "\n",
    "F = []\n",
    "\n",
    "for prob in probs:\n",
    "    fidelities = []\n",
    "    for i in range(N):\n",
    "        circ = genCircuit2(prob)\n",
    "        psi = execute(circ,sv_sim).result().get_statevector()\n",
    "    \n",
    "        fidelities.append(np.abs(np.vdot(psi,phi))**2)\n",
    "    F.append(np.average(fidelities))"
   ]
  },
  {
   "cell_type": "markdown",
   "metadata": {},
   "source": [
    "Given that they occur immediately after the Hadamard gate, the $X$ and $Z$ errors can only map the output onto one of the Bell states. The inner product $\\langle\\phi|\\psi\\rangle = 1$ if $|\\psi\\rangle=|\\beta_{00}\\rangle$, and $0$ otherwise and the fidelities take on the same values.\n",
    "\n",
    "The errors that keep the output $|\\beta_{00}\\rangle$ are: $I_1I_2, I_1Z_2, X_1I_2,$ and $X_1Z_2 $ and so the expected fidelity for Circuit 2 can be calculated:\n",
    "$$ F = (1-2p)^2 + (1-2p)p + p(1-2p) + p^2 = 1 - 2p + p^2 $$"
   ]
  },
  {
   "cell_type": "code",
   "execution_count": 120,
   "metadata": {},
   "outputs": [
    {
     "data": {
      "text/plain": [
       "<matplotlib.legend.Legend at 0x14fa3945bc8>"
      ]
     },
     "execution_count": 120,
     "metadata": {},
     "output_type": "execute_result"
    },
    {
     "data": {
      "image/png": "[encoded data removed]",
      "text/plain": [
       "<Figure size 864x432 with 1 Axes>"
      ]
     },
     "metadata": {
      "needs_background": "light"
     },
     "output_type": "display_data"
    }
   ],
   "source": [
    "expected = 1 - 2*probs + probs**2 \n",
    "\n",
    "fig = plt.figure(figsize=(12,6))\n",
    "\n",
    "plt.title('Fidelity for Circuit 2')\n",
    "\n",
    "plt.plot(probs,F,label='Measured')\n",
    "plt.plot(probs,expected,label='Exptected')\n",
    "\n",
    "plt.xlabel('p')\n",
    "plt.ylabel('Fidelity')\n",
    "\n",
    "plt.ylim([0,1.05])\n",
    "\n",
    "plt.legend()"
   ]
  },
  {
   "cell_type": "markdown",
   "metadata": {},
   "source": [
    "### 3. Error Correcting Code\n",
    "\n",
    "I'll be using the Steane 7-qubit stabilizer code to do error correction because it can correct any arbitrary single-qubit error and the logical Hadamard and CNOT gates are very easy to implement in this error correction scheme.\n",
    "\n",
    "#### Code Subspace and Syndrome Measurement\n",
    "The Stabilizer generators for the code are\n",
    "\n",
    "Name |Operator\n",
    ":---:|:-------\n",
    "$g_1$| $$I_1I_2I_3X_4X_5X_6X_7$$\n",
    "$g_2$| $$I_1X_2X_3I_4I_5X_6X_7$$\n",
    "$g_3$| $$X_1I_2X_3I_4X_5I_6X_7$$\n",
    "$g_4$| $$I_1I_2I_3Z_4Z_5Z_6Z_7$$\n",
    "$g_5$| $$I_1Z_2Z_3I_4I_5Z_6Z_7$$\n",
    "$g_6$| $$Z_1I_2Z_3I_4Z_5I_6Z_7$$\n",
    "\n",
    "The group of operators generated by the above generators $S=\\langle g_1,g_2,g_3,g_4,g_5,g_6 \\rangle$ is called the stabilizer\n",
    "group for the code. The logical qubit states are unaffected by any operator $g \\in S$, i.e. $g|\\psi\\rangle = |\\psi\\rangle$. That is to say, that the 'code subspace' is the vector space that is stabilized by $S$.\n",
    "\n",
    "We can map an arbitrary 7-qubit state $|\\psi\\rangle$ into our code subspace by measuring the operators $g_1, \\dots, g_6$. These successive measurements will project $|\\psi\\rangle$ into the code subspace. Each $g_i$ has eigenvalues $\\pm 1$ which correspond to the projectors\n",
    "$$ \\frac{I\\pm g_i}{\\sqrt{2}} $$\n",
    "respectively. We can achieve these measurements in qiskit by entangling the state $|\\psi\\rangle$ with 6 ancilliary qubits and measuring them as shown in the circuit below:\n",
    "\n",
    "![Measurement Circuit](steane-measure-circuit.png)\n",
    "\n",
    "The six qubits on top are ancillas and measuring them will project the bottom 7 qubits into the code subspace. A measurement of 0 on ancilliary qubit $i$ corresponds to measuring the eigenvalue +1 for operator $g_i$, and a measurement of 1 corresponds to measuring the eigenvalue -1. The values measured for each $g_i$ are called the '_syndrome_' measurement and will be used to correct errors.\n",
    "\n",
    "Since each of the generators can be written as tensor products of $X$ and $I$ or $Z$ and $I$, the controlled-$g_i$ gates can be\n",
    "implemented using a sequence of controlled-$X$ and controlled-$Z$ gates."
   ]
  },
  {
   "cell_type": "code",
   "execution_count": 297,
   "metadata": {},
   "outputs": [],
   "source": [
    "def addSyndMeasCircuit(qc, ancillas, logical_qubit, syndrome):\n",
    "    # Make sure the registers are valid\n",
    "    if not isinstance(ancillas, QuantumRegister):\n",
    "        raise TypeError(\"'ancillas' should be a QuantumRegister\")\n",
    "    elif ancillas.size != 6:\n",
    "        raise TypeError(\"'ancillas' must have 6 qubits\")\n",
    "    \n",
    "    if not isinstance(logical_qubit, QuantumRegister):\n",
    "        raise TypeError(\"'logical_qubit'should be a QuantumRegister\")\n",
    "    elif logical_qubit.size != 7:\n",
    "        raise TypeError(\"'logical_qubit' must have 7 qubits\")\n",
    "    \n",
    "    if not isinstance(syndrome, ClassicalRegister):\n",
    "        raise TypeError(\"'syndrome' should be a ClassicalRegister\")\n",
    "    elif syndrome.size != 6:\n",
    "        raise TypeError(\"'syndrome' must have 6 bits\")\n",
    "    \n",
    "    #qc = QuantumCircuit(ancillas,logical_qubit,syndrome,name='syndrome_measurement')\n",
    "\n",
    "    for i in range(6):\n",
    "        qc.initialize([1,0],ancillas[i])\n",
    "\n",
    "    qc.h(ancillas)\n",
    "\n",
    "    # Note that the register indexing starts from 0 in qiskit, as opposed to starting from 1 in the notes above\n",
    "\n",
    "    qc.cx(ancillas[0],[logical_qubit[i] for i in [3,4,5,6]]) # controlled-g1\n",
    "    qc.cx(ancillas[1],[logical_qubit[i] for i in [1,2,5,6]]) # controlled-g2\n",
    "    qc.cx(ancillas[2],[logical_qubit[i] for i in [0,2,4,6]]) # controlled-g3\n",
    "\n",
    "    qc.cz(ancillas[0],[logical_qubit[i] for i in [3,4,5,6]]) # controlled-g4\n",
    "    qc.cz(ancillas[1],[logical_qubit[i] for i in [1,2,5,6]]) # controlled-g5\n",
    "    qc.cz(ancillas[2],[logical_qubit[i] for i in [0,2,4,6]]) # controlled-g6\n",
    "\n",
    "    qc.h(ancillas)\n",
    "\n",
    "    qc.measure(ancillas,syndrome)\n",
    "    \n",
    "    #return measure_circ"
   ]
  },
  {
   "cell_type": "markdown",
   "metadata": {},
   "source": [
    "##### Initialization\n",
    "We can get the logical $|0\\rangle$ state by projecting the $|0\\rangle^{\\otimes 7}$ state into the code subspace, if the syndrome consisted of only +1 eigenvalues:\n",
    "\n",
    "$$ |\\bar{0}\\rangle = \n",
    "\\left(\\frac{I+g_1}{\\sqrt{2}}\\right)\n",
    "\\left(\\frac{I+g_2}{\\sqrt{2}}\\right)\n",
    "\\left(\\frac{I+g_3}{\\sqrt{2}}\\right)\n",
    "\\left(\\frac{I+g_4}{\\sqrt{2}}\\right)\n",
    "\\left(\\frac{I+g_5}{\\sqrt{2}}\\right)\n",
    "\\left(\\frac{I+g_6}{\\sqrt{2}}\\right) |0000000\\rangle $$\n",
    "$$ |\\bar{0}\\rangle = \\frac{1}{\\sqrt{8}} \\left[\n",
    "|0000000\\rangle + \n",
    "|1010101\\rangle + \n",
    "|0110011\\rangle + \n",
    "|1100110\\rangle + \n",
    "|0001111\\rangle + \n",
    "|1011010\\rangle + \n",
    "|0111100\\rangle + \n",
    "|1101001\\rangle\n",
    "\\right]\n",
    "$$\n",
    "\n",
    "The logical $|1\\rangle$ state can be obtained by projecting the $|1\\rangle^{\\otimes 7}$ state into the code subspace, if the syndrome consisted of only +1 eigenvalues --\n",
    "$$ |\\bar{1}\\rangle = \\frac{1}{\\sqrt{8}} \\left[\n",
    "|1111111\\rangle + \n",
    "|0101010\\rangle + \n",
    "|1001100\\rangle + \n",
    "|0011001\\rangle + \n",
    "|1110000\\rangle + \n",
    "|0100101\\rangle + \n",
    "|1000011\\rangle + \n",
    "|0010110\\rangle\n",
    "\\right],\n",
    "$$\n",
    "However, since the logical $X$ gate is easy to implement, we can focus only on initializing the logical 0 state.\n",
    "\n",
    "The $|0\\rangle^{\\otimes 7}$ state is already in the +1 eigenspace of $g_4,g_5,$ and $g_6$ (since they are only composed of $I$ and $Z$ gates), so we need only measure $g_1, g_2, g_3$ to project this into the code space. However, there is only $1/8$ probability of measuring all three operators as +1, any other syndrome will result in a different state. We can correct for this by adding conditional $Z$ gates:\n",
    "\n",
    "![Initialization Circuit](steane-init-circuit.png)"
   ]
  },
  {
   "cell_type": "code",
   "execution_count": 241,
   "metadata": {},
   "outputs": [],
   "source": [
    "def addInitCircuit(qc, ancillas, logical_qubit, syndrome):\n",
    "    # Make sure the registers are valid\n",
    "    if not isinstance(ancillas, QuantumRegister):\n",
    "        raise TypeError(\"'ancillas' should be a QuantumRegister\")\n",
    "    elif ancillas.size != 3:\n",
    "        raise TypeError(\"'ancillas' must have 6 qubits\")\n",
    "    \n",
    "    if not isinstance(logical_qubit, QuantumRegister):\n",
    "        raise TypeError(\"'logical_qubit'should be a QuantumRegister\")\n",
    "    elif logical_qubit.size != 7:\n",
    "        raise TypeError(\"'logical_qubit' must have 7 qubits\")\n",
    "    \n",
    "    if not isinstance(syndrome, list):\n",
    "        raise TypeError(\"'syndrome' must be a list of ClassicalRegisters\")\n",
    "    else:\n",
    "        for s in syndrome:\n",
    "            if not isinstance(s, ClassicalRegister):\n",
    "                raise TypeError(\"'syndrome' must be a list of ClassicalRegisters\")\n",
    "            elif s.size != 1:\n",
    "                raise TypeError(\"ClassicalRegisters of 'syndrome' must have 1 bit each\")\n",
    "        \n",
    "    #init_circ = QuantumCircuit(ancillas, logical_qubit, *syndrome, name=name)\n",
    "    \n",
    "    for i in range(3):\n",
    "        qc.initialize([1,0], ancillas[i])\n",
    "    for i in range(7):\n",
    "        qc.initialize([1,0], logical_qubit[i])\n",
    "        \n",
    "    qc.h(ancillas)\n",
    "    \n",
    "    # Note that the register indexing starts from 0 in qiskit, as opposed to starting from 1 in the notes above\n",
    "    \n",
    "    qc.cx(ancillas[0],[logical_qubit[i] for i in [3,4,5,6]]) # controlled-g1\n",
    "    qc.cx(ancillas[1],[logical_qubit[i] for i in [1,2,5,6]]) # controlled-g2\n",
    "    qc.cx(ancillas[2],[logical_qubit[i] for i in [0,2,4,6]]) # controlled-g3\n",
    "    \n",
    "    qc.h(ancillas)\n",
    "    for i in range(3):\n",
    "        qc.measure(ancillas[i],syndrome[i])\n",
    "    \n",
    "    qc.z(logical_qubit[3]).c_if(syndrome[0],1)\n",
    "    qc.z(logical_qubit[1]).c_if(syndrome[1],1)\n",
    "    qc.z(logical_qubit[0]).c_if(syndrome[2],1)\n",
    "    \n",
    "    #return init_circ"
   ]
  },
  {
   "cell_type": "markdown",
   "metadata": {},
   "source": [
    "**Verifying that the circuit prepares the correct state:**\n",
    "\n",
    "I will run this circuit using the state vector simulator and note the indices of the amplitudes that are non-zero as binary numbers. Due to the way that Qiskit formats qubit indices, qubit index '0' refers to the least significant bit (the rightmost bit in the binary number representation), which is the reverse of how I wrote the computational basis states in the $|\\bar{0}\\rangle$ state in the notes above."
   ]
  },
  {
   "cell_type": "code",
   "execution_count": 242,
   "metadata": {},
   "outputs": [
    {
     "name": "stdout",
     "output_type": "stream",
     "text": [
      "Number of kets in superposition:  8\n",
      "Kets in superposition:\n",
      "Ket: 0000000 --- Amplitude: (0.35355339059327384-1.9484011265298607e-16j)\n",
      "Ket: 0001111 --- Amplitude: (0.35355339059327384-1.9484011265298607e-16j)\n",
      "Ket: 0101101 --- Amplitude: (0.35355339059327384-1.9484011265298607e-16j)\n",
      "Ket: 0110011 --- Amplitude: (0.35355339059327384-1.9484011265298607e-16j)\n",
      "Ket: 1101001 --- Amplitude: (0.35355339059327384-1.9484011265298607e-16j)\n",
      "Ket: 1010101 --- Amplitude: (0.35355339059327384-1.9484011265298607e-16j)\n",
      "Ket: 0110011 --- Amplitude: (0.35355339059327384-1.9484011265298607e-16j)\n",
      "Ket: 0001111 --- Amplitude: (0.35355339059327384-1.9484011265298607e-16j)\n",
      "\n",
      "sqrt[1/8] = 0.3535533905932738\n"
     ]
    },
    {
     "data": {
      "image/png": "[encoded data removed]",
      "text/plain": [
       "<Figure size 504x360 with 1 Axes>"
      ]
     },
     "execution_count": 242,
     "metadata": {},
     "output_type": "execute_result"
    }
   ],
   "source": [
    "a = QuantumRegister(3)\n",
    "a2= QuantumRegister(6)\n",
    "lq = QuantumRegister(7)\n",
    "s = [ClassicalRegister(1),ClassicalRegister(1),ClassicalRegister(1)]\n",
    "s2 = ClassicalRegister(6)\n",
    "\n",
    "qc = QuantumCircuit(a,a2,lq,*s,s2)\n",
    "addInitCircuit(qc,a,lq,s)\n",
    "addMeasCircuit(qc,a2,lq,s2)\n",
    "\n",
    "result = execute(qc,sv_sim).result()\n",
    "sv =  result.get_statevector()\n",
    "indices = []                     # list that holds the computational basis vector names where the amplitude is non-zero\n",
    "for i in range(len(sv)):\n",
    "    if sv[i] != 0:\n",
    "        indices.append( ((str(bin(i)[2:]).zfill(3+7)),sv[i]) )  # store the index as a 10-bit long binary number\n",
    "        \n",
    "print('Number of kets in superposition: ', len(indices))\n",
    "print(\"Kets in superposition:\")\n",
    "for i in indices:\n",
    "    print('Ket:', i[0][0:7][::-1], '--- Amplitude:', i[1] ) # Extract the 7 left-most bits of the number, \n",
    "                                                            # reverse them (for consistency with the notes)\n",
    "                                                            # and print the amplitude of the ket\n",
    "\n",
    "print('\\nsqrt[1/8] =',np.sqrt(1/8))                        # To verify the amplitudes are correct\n",
    "\n",
    "counts = result.get_counts()\n",
    "plot_histogram(counts)"
   ]
  },
  {
   "cell_type": "code",
   "execution_count": 243,
   "metadata": {},
   "outputs": [
    {
     "data": {
      "image/png": "[encoded data removed]",
      "text/plain": [
       "<Figure size 504x360 with 1 Axes>"
      ]
     },
     "execution_count": 243,
     "metadata": {},
     "output_type": "execute_result"
    }
   ],
   "source": [
    "result2 = execute(qc,qasm_sim,shots=1024).result()\n",
    "counts2 = result2.get_counts()\n",
    "plot_histogram(counts2)"
   ]
  },
  {
   "cell_type": "markdown",
   "metadata": {},
   "source": [
    "These match the basis states in the logical 0:\n",
    "$$ |\\bar{0}\\rangle = \\frac{1}{\\sqrt{8}} \\left[\n",
    "|0000000\\rangle + \n",
    "|1010101\\rangle + \n",
    "|0110011\\rangle + \n",
    "|1100110\\rangle + \n",
    "|0001111\\rangle + \n",
    "|1011010\\rangle + \n",
    "|0111100\\rangle + \n",
    "|1101001\\rangle\n",
    "\\right]\n",
    "$$"
   ]
  },
  {
   "cell_type": "markdown",
   "metadata": {},
   "source": [
    "#### Applying Gates in the Code Subspace\n",
    "The logical $X$ and $Z$ gates for the Steane code are:\n",
    "$$ \\bar{X} = X_1X_2X_3X_4X_5X_6X_7 $$\n",
    "$$ \\bar{Z} = Z_1Z_2Z_3Z_4Z_5Z_6Z_7 $$\n",
    "\n",
    "Under the stabilizer formalism, if we wish to apply a unitary operator, $U$, on our logical qubit, we have for all $g\\in S$:\n",
    "$$ U|\\psi\\rangle = Ug|\\psi\\rangle = UgU^\\dagger U|\\psi\\rangle $$\n",
    "So the group $USU^\\dagger = \\{ UgU^\\dagger | g \\in S \\}$ stabilizes $U|\\psi\\rangle$. We are interested in the unitaries for which $USU^\\dagger = S$ because this implies that the output of the unitary will also be in the code space, allowing us to do logical computations with them.\n",
    "\n",
    "##### Logical Hadamard Gate\n",
    "For a single qubit, the Hadamard gate has the folliwing properties:\n",
    "$$ HXH^\\dagger = Z $$\n",
    "$$ HZH^\\dagger = X $$\n",
    "\n",
    "and so the logical Hadamard gate acting on the code space must follow the first two properties for the logical $X$ and $Z$ gates:\n",
    "$$ \\bar{H}\\bar{X}\\bar{H}^\\dagger = \\bar{Z} $$\n",
    "$$ \\bar{H}\\bar{Z}\\bar{H}^\\dagger = \\bar{X} $$\n",
    "\n",
    "Defining\n",
    "$$ \\bar{H} = H_1 H_2 H_3 H_4 H_5 H_6 H_7 $$ \n",
    "clearly satisfies this property and moreover, $\\bar{H}S\\bar{H}^\\dagger = S$ (since the generators are just permuted under this conjugation)."
   ]
  },
  {
   "cell_type": "code",
   "execution_count": 244,
   "metadata": {},
   "outputs": [],
   "source": [
    "def addLogicalH(qc, logical_qubit):\n",
    "    if not isinstance(logical_qubit, QuantumRegister):\n",
    "        raise TypeError(\"'logical_qubit' should be a QuantumRegister\")\n",
    "    elif logical_qubit.size != 7:\n",
    "        raise TypeError(\"'logical_qubit' must have 7 qubits\")\n",
    "        \n",
    "    # log_h = QuantumCircuit(logical_qubit,name='Logical H')\n",
    "    qc.h(logical_qubit)\n",
    "    \n",
    "    #return log_h"
   ]
  },
  {
   "cell_type": "markdown",
   "metadata": {},
   "source": [
    "##### Logical CNOT Gate\n",
    "For two logical qubits, under the stabilizer formalism, if we wish to apply a unitary operator $U$ acting on the 2-qubit state $|\\psi\\rangle$, for all $g_i, g_j \\in S$:\n",
    "\n",
    "$$ U|\\psi\\rangle = U(g_i\\otimes g_j)|\\psi\\rangle = U(g_i\\otimes g_j)U^\\dagger U|\\psi\\rangle $$\n",
    "\n",
    "i.e. $U|\\psi\\rangle$ is stabilized by $U(S\\otimes S)U^\\dagger = \\{U(g_i\\otimes g_j)U^\\dagger | g_i, g_j \\in S\\}$ and we are interested in the unitaries where this maps back to $S\\otimes S$.\n",
    "\n",
    "As it turns out, the logical CNOT can be implemented in the Steane code subspace by taking individual CNOTS controlled by each of the qubits in the first logical register targetting the qubits sharing the same index in the second logical qubit"
   ]
  },
  {
   "cell_type": "code",
   "execution_count": 245,
   "metadata": {},
   "outputs": [],
   "source": [
    "def addLogicalCNOT(qc, control, target):\n",
    "    if not isinstance(control, QuantumRegister):\n",
    "        raise TypeError(\"'control' should be a QuantumRegister\")\n",
    "    elif control.size != 7:\n",
    "        raise TypeError(\"'control' must have 7 qubits\")\n",
    "    \n",
    "    if not isinstance(control, QuantumRegister):\n",
    "        raise TypeError(\"'control' should be a QuantumRegister\")\n",
    "    elif control.size != 7:\n",
    "        raise TypeError(\"'control' must have 7 qubits\")\n",
    "\n",
    "    #log_cnot = QuantumCircuit(control,target,name='Logical CNOT')\n",
    "\n",
    "    for i in range(7):\n",
    "        qc.cx(control[i],target[i])\n",
    "    \n",
    "    #return log_cnot"
   ]
  },
  {
   "cell_type": "markdown",
   "metadata": {},
   "source": [
    "##### Measurement\n",
    "\n",
    "In syndrome measurements, we measured $g_i$ with the following circuit:\n",
    "![General Measurement](general-measurement-circuit.png)\n",
    "\n",
    "If we replace the $g_i$ with any other observable with eigenvalues $\\pm 1$, we can measure that observable too.\n",
    "\n",
    "So, if we use the logical $Z$ gate as our observable, we'll be able to measure our logical qubits in the $\\bar{Z}$ basis."
   ]
  },
  {
   "cell_type": "code",
   "execution_count": 311,
   "metadata": {},
   "outputs": [],
   "source": [
    "def addZMeasCircuit(qc, ancilla, logical_qubit, measurement):\n",
    "    # Make sure the registers are valid\n",
    "    if not isinstance(ancilla, QuantumRegister):\n",
    "        raise TypeError(\"'ancilla' should be a QuantumRegister\")\n",
    "    elif ancilla.size != 1:\n",
    "        raise TypeError(\"'ancilla' must have 1 qubit\")\n",
    "    \n",
    "    if not isinstance(logical_qubit, QuantumRegister):\n",
    "        raise TypeError(\"'logical_qubit'should be a QuantumRegister\")\n",
    "    elif logical_qubit.size != 7:\n",
    "        raise TypeError(\"'logical_qubit' must have 7 qubits\")\n",
    "    \n",
    "    if not isinstance(measurement, ClassicalRegister):\n",
    "        raise TypeError(\"'measurement' should be a ClassicalRegister\")\n",
    "    elif measurement.size != 1:\n",
    "        raise TypeError(\"'measurement' must have 1 bit\")\n",
    "        \n",
    "    qc.h(ancilla)\n",
    "    for i in range(7):\n",
    "        qc.cz(ancilla, logical_qubit[i])\n",
    "    qc.h(ancilla)\n",
    "    qc.measure(ancilla, measurement)"
   ]
  },
  {
   "cell_type": "markdown",
   "metadata": {},
   "source": [
    "#### Putting it together (without errors)\n",
    "\n",
    "Let's put these components together and verify that the circuit creates the $|\\beta_{00}\\rangle$ state in the code subspace."
   ]
  },
  {
   "cell_type": "code",
   "execution_count": 317,
   "metadata": {},
   "outputs": [],
   "source": [
    "# The logical qubits\n",
    "lq_1 = QuantumRegister(7,name='lq_1')\n",
    "lq_2 = QuantumRegister(7,name='lq_2')\n",
    "\n",
    "# Initialization Ancillas\n",
    "init_ancilla = QuantumRegister(3,name='init_ancil')\n",
    "init_syndrome_1 = [ClassicalRegister(1,name='init_synd_1_0'),\n",
    "                  ClassicalRegister(1,name='init_synd_1_1'),\n",
    "                  ClassicalRegister(1,name='init_synd_1_2')]\n",
    "\n",
    "init_syndrome_2 = [ClassicalRegister(1,name='init_synd_2_0'),\n",
    "                  ClassicalRegister(1,name='init_synd_2_1'),\n",
    "                  ClassicalRegister(1,name='init_synd_2_2')]\n",
    "\n",
    "# Measurement Ancillas\n",
    "z_meas_ancilla_1 = QuantumRegister(1,name='meas_ancil 1')\n",
    "z_meas_ancilla_2 = QuantumRegister(1,name='meas_ancil 2')\n",
    "z_meas_1 = ClassicalRegister(1,name='meas 1')\n",
    "z_meas_2 = ClassicalRegister(1,name='meas 2')\n",
    "\n",
    "# Define the quantum circuit on these registers\n",
    "qc = QuantumCircuit(lq_1, lq_2, init_ancilla, z_meas_ancilla_1, z_meas_ancilla_2,\n",
    "                    *init_syndrome_1, *init_syndrome_2, z_meas_1, z_meas_2)\n",
    "\n",
    "# Initialize the logical qubits to the 0 state\n",
    "addInitCircuit(qc, init_ancilla, lq_1, init_syndrome_1)\n",
    "addInitCircuit(qc, init_ancilla, lq_2, init_syndrome_2)\n",
    "#qc.barrier(lq_1,lq_2)\n",
    "\n",
    "# Apply the Hadamard gate\n",
    "addLogicalH(qc, lq_1)\n",
    "qc.barrier(lq_1)\n",
    "\n",
    "# Apply the CNOT gate\n",
    "addLogicalCNOT(qc, lq_1, lq_2)\n",
    "qc.barrier(lq_1,lq_2)\n",
    "\n",
    "# Measure the qubits\n",
    "addZMeasCircuit(qc, z_meas_ancilla_1, lq_1, z_meas_1)\n",
    "addZMeasCircuit(qc, z_meas_ancilla_2, lq_2, z_meas_2)"
   ]
  },
  {
   "cell_type": "code",
   "execution_count": 321,
   "metadata": {},
   "outputs": [
    {
     "data": {
      "image/png": "[encoded data removed]",
      "text/plain": [
       "<Figure size 504x360 with 1 Axes>"
      ]
     },
     "execution_count": 321,
     "metadata": {},
     "output_type": "execute_result"
    }
   ],
   "source": [
    "result = execute(qc, qasm_sim).result()\n",
    "counts = result.get_counts()\n",
    "\n",
    "# We want to extract only the final measurements, which are the right-most 2 bits in the counts dictionary key string\n",
    "net_counts = {}\n",
    "for key in counts.keys():\n",
    "    truncated_key = key[0:1+1+1]\n",
    "    if truncated_key in net_counts.keys():\n",
    "        net_counts[truncated_key] += counts[key]\n",
    "    else:\n",
    "        net_counts[truncated_key] = counts[key]\n",
    "\n",
    "plot_histogram(net_counts)"
   ]
  },
  {
   "cell_type": "code",
   "execution_count": 287,
   "metadata": {},
   "outputs": [
    {
     "name": "stdout",
     "output_type": "stream",
     "text": [
      "{'000000 000000': 145, '000000 000100': 112, '000000 000101': 134, '000000 000110': 133, '000000 000111': 130, '000000 000001': 108, '000000 000010': 127, '000000 000011': 135}\n"
     ]
    }
   ],
   "source": [
    "print(net_counts)"
   ]
  },
  {
   "cell_type": "code",
   "execution_count": 288,
   "metadata": {},
   "outputs": [
    {
     "name": "stdout",
     "output_type": "stream",
     "text": [
      "8\n"
     ]
    }
   ],
   "source": [
    "print(len(net_counts.keys()))"
   ]
  },
  {
   "cell_type": "markdown",
   "metadata": {},
   "source": [
    "#### Introducing Single Qubit Errors in the Circuit"
   ]
  },
  {
   "cell_type": "code",
   "execution_count": null,
   "metadata": {},
   "outputs": [],
   "source": []
  },
  {
   "cell_type": "markdown",
   "metadata": {},
   "source": [
    "#### Error Correction"
   ]
  },
  {
   "cell_type": "code",
   "execution_count": null,
   "metadata": {},
   "outputs": [],
   "source": []
  },
  {
   "cell_type": "markdown",
   "metadata": {},
   "source": [
    "#### Verifying the results"
   ]
  },
  {
   "cell_type": "code",
   "execution_count": null,
   "metadata": {},
   "outputs": [],
   "source": []
  }
 ],
 "metadata": {
  "kernelspec": {
   "display_name": "Python 3",
   "language": "python",
   "name": "python3"
  },
  "language_info": {
   "codemirror_mode": {
    "name": "ipython",
    "version": 3
   },
   "file_extension": ".py",
   "mimetype": "text/x-python",
   "name": "python",
   "nbconvert_exporter": "python",
   "pygments_lexer": "ipython3",
   "version": "3.7.9"
  }
 },
 "nbformat": 4,
 "nbformat_minor": 2
}
