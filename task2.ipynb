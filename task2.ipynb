{
 "cells": [
  {
   "cell_type": "markdown",
   "metadata": {},
   "source": [
    "# Problem Statement:\n",
    "## Task 2\n",
    "\n",
    "The bit-flip code and the sign-flip code (you can find a description of both [here](https://en.wikipedia.org/wiki/Quantum_error_correction)) are two very simple circuits able to detect and fix the bit-flip and the sign-flip errors, respectively.\n",
    "\n",
    "1. Build the following simple circuit to prepare the Bell state:\n",
    "\n",
    "![Bell State generating circuit](bell-circuit.png)\n",
    "\n",
    "2. Now add, right before the CNOT gate and for each of the two qubits, an arbitrary \"error gate\". By error gate, we mean that with a certain probability (that you can decide but must be non-zero for all the choices) you have a 1-qubit unitary which can be either the identity, or the $X$ gate (bit-flip error) or the $Z$ gate (sign-flip error).\n",
    "3. Encode each of the two qubits with a sign-flip or bit-flip code, in such a way that **all the possible** choices for the error gates described in (2), occurring on the logical qubits, can be detected and fixed. Motivate your choice. This is the most non-trivial part of the problem, so do it with a lot of care!\n",
    "4. Test your solution by making measurements over the final state and testing that the results are in line with the expectation.\n"
   ]
  },
  {
   "cell_type": "code",
   "execution_count": 139,
   "metadata": {},
   "outputs": [],
   "source": [
    "from qiskit import QuantumCircuit\n",
    "from qiskit import execute, Aer\n",
    "from qiskit.visualization import plot_histogram\n",
    "\n",
    "from matplotlib import pyplot as plt\n",
    "\n",
    "%matplotlib inline\n",
    "\n",
    "import numpy as np\n",
    "\n",
    "sv_sim = Aer.get_backend('statevector_simulator')\n",
    "qasm_sum = Aer.get_backend('qasm_simulator')"
   ]
  },
  {
   "cell_type": "markdown",
   "metadata": {},
   "source": [
    "### 1. Circuit with no errors"
   ]
  },
  {
   "cell_type": "code",
   "execution_count": 140,
   "metadata": {},
   "outputs": [
    {
     "data": {
      "text/html": [
       "<pre style=\"word-wrap: normal;white-space: pre;background: #fff0;line-height: 1.1;font-family: &quot;Courier New&quot;,Courier,monospace\">     ┌───┐     \n",
       "q_0: ┤ H ├──■──\n",
       "     └───┘┌─┴─┐\n",
       "q_1: ─────┤ X ├\n",
       "          └───┘</pre>"
      ],
      "text/plain": [
       "     ┌───┐     \n",
       "q_0: ┤ H ├──■──\n",
       "     └───┘┌─┴─┐\n",
       "q_1: ─────┤ X ├\n",
       "          └───┘"
      ]
     },
     "execution_count": 140,
     "metadata": {},
     "output_type": "execute_result"
    }
   ],
   "source": [
    "qc_1 = QuantumCircuit(2)    # Create the quantum circuit object with 2 qubits\n",
    "qc_1.h(0)                   # Add a Hadamard gate on the first qubit\n",
    "qc_1.cx(0,1)                # Add a CNOT gate with first qubit as control and second as target\n",
    "\n",
    "qc_1.draw()                 # Display the circuit"
   ]
  },
  {
   "cell_type": "markdown",
   "metadata": {},
   "source": [
    "#### Running Circuit 1\n",
    "\n",
    "With no errors, this circuit should produce the Bell state:\n",
    "$$ |\\beta_{00}\\rangle = \\frac{|00\\rangle + |11\\rangle}{\\sqrt{2}} $$\n",
    "\n",
    "Upon measuring this state, we should observe these statistics:\n",
    "\n",
    "|**Measured State**|**Probability**|\n",
    "|:----------------:|--------------:|\n",
    "|00|0.5|\n",
    "|01|0.0|\n",
    "|10|0.0|\n",
    "|11|0.5|"
   ]
  },
  {
   "cell_type": "code",
   "execution_count": 141,
   "metadata": {},
   "outputs": [
    {
     "name": "stdout",
     "output_type": "stream",
     "text": [
      "Output state vector:  [0.70710678+0.j 0.        +0.j 0.        +0.j 0.70710678+0.j]\n"
     ]
    },
    {
     "data": {
      "image/png": "[encoded data removed]",
      "text/plain": [
       "<Figure size 504x360 with 1 Axes>"
      ]
     },
     "execution_count": 141,
     "metadata": {},
     "output_type": "execute_result"
    }
   ],
   "source": [
    "result = execute(qc_1,sv_sim).result()\n",
    "print('Output state vector: ', result.get_statevector())\n",
    "\n",
    "counts = result.get_counts()\n",
    "plot_histogram(counts)"
   ]
  },
  {
   "cell_type": "markdown",
   "metadata": {},
   "source": [
    "### 2. Circuit prone to errors, without error correction\n",
    "\n",
    "Now, each qubit is subject to a random error before the CNOT gate. For each qubit the probability of encountering an $X$ error is $p$, the probability of encountering a $Z$ error is $p$ and thus, the probability of no error is $1-2p$.\n",
    "\n",
    "You can adjust the value of p in the cell below:"
   ]
  },
  {
   "cell_type": "code",
   "execution_count": 142,
   "metadata": {},
   "outputs": [],
   "source": [
    "p=0.3"
   ]
  },
  {
   "cell_type": "markdown",
   "metadata": {},
   "source": [
    "The next cell defines a function that will add a random error gate the circuit.\n",
    "\n",
    "* `qubit`: The index of the qubit to add the error gate to\n",
    "* `prob`: The probability of the error gates occuring (assumes every error is equally likely)\n",
    "* `error_gates`: A list of possible error gates (pass in the form `[quantumCircuit.gate0, ...]`)"
   ]
  },
  {
   "cell_type": "code",
   "execution_count": 143,
   "metadata": {},
   "outputs": [],
   "source": [
    "def addDiscreteErrorGate(qubit, prob, error_gates):\n",
    "    n = len(error_gates)\n",
    "    \n",
    "    # Check to make sure n*prob<=1\n",
    "    if(n*prob > 1):\n",
    "        raise ValueError('The entered probability is invalid, {}*prob > 1'.format(n))\n",
    "    \n",
    "    rand = np.random.uniform(0,1)\n",
    "    #print(rand) # Debugging line\n",
    "    \n",
    "    # Apply error_gate[i] if the randomly generated number is between i*prob and (i+1)*prob\n",
    "    for i in range(n):\n",
    "        if rand < (i+1)*prob:\n",
    "            error_gates[i](qubit)\n",
    "            return\n",
    "    "
   ]
  },
  {
   "cell_type": "markdown",
   "metadata": {},
   "source": [
    "The next cell defines a circuit that implements this random error."
   ]
  },
  {
   "cell_type": "code",
   "execution_count": 144,
   "metadata": {},
   "outputs": [
    {
     "data": {
      "text/html": [
       "<pre style=\"word-wrap: normal;white-space: pre;background: #fff0;line-height: 1.1;font-family: &quot;Courier New&quot;,Courier,monospace\">     ┌───┐┌───┐     \n",
       "q_0: ┤ H ├┤ X ├──■──\n",
       "     ├───┤└───┘┌─┴─┐\n",
       "q_1: ┤ Z ├─────┤ X ├\n",
       "     └───┘     └───┘</pre>"
      ],
      "text/plain": [
       "     ┌───┐┌───┐     \n",
       "q_0: ┤ H ├┤ X ├──■──\n",
       "     ├───┤└───┘┌─┴─┐\n",
       "q_1: ┤ Z ├─────┤ X ├\n",
       "     └───┘     └───┘"
      ]
     },
     "execution_count": 144,
     "metadata": {},
     "output_type": "execute_result"
    }
   ],
   "source": [
    "def genCircuit2(prob):\n",
    "    qc = QuantumCircuit(2)\n",
    "    qc.h(0)\n",
    "\n",
    "    addDiscreteErrorGate(0,prob,[qc.x, qc.z])\n",
    "    addDiscreteErrorGate(1,prob,[qc.x, qc.z])\n",
    "\n",
    "    qc.cx(0,1)\n",
    "    \n",
    "    return qc\n",
    "\n",
    "qc_2=genCircuit2(p)\n",
    "qc_2.draw()"
   ]
  },
  {
   "cell_type": "code",
   "execution_count": 145,
   "metadata": {},
   "outputs": [
    {
     "name": "stdout",
     "output_type": "stream",
     "text": [
      "Output state vector:  [ 0.70710678+0.j -0.        +0.j -0.        +0.j  0.70710678+0.j]\n"
     ]
    },
    {
     "data": {
      "image/png": "[encoded data removed]",
      "text/plain": [
       "<Figure size 504x360 with 1 Axes>"
      ]
     },
     "execution_count": 145,
     "metadata": {},
     "output_type": "execute_result"
    }
   ],
   "source": [
    "result = execute(qc_2,sv_sim).result()\n",
    "print('Output state vector: ', result.get_statevector())\n",
    "\n",
    "counts = result.get_counts()\n",
    "plot_histogram(counts)"
   ]
  },
  {
   "cell_type": "markdown",
   "metadata": {},
   "source": [
    "#### Running Circuit 2\n",
    "\n",
    "In the above cell I displayed the output state and measurement statistics of **one instance** of Circuit 2. Since there are multiple possible ways in which the error can manifest in this circuit, it would make more sense to look at the fidelity of the circuit.\n",
    "\n",
    "Fidelity is a measure of \"how close\" two quantum states are. For the pure state $|\\psi\\rangle$, that is the output of the error-prone circuit, and $|\\phi\\rangle$ that is the output of the error-free circuit, the fidelity is calculated as:\n",
    "$$ F = |\\langle \\psi | \\phi \\rangle |^2 $$\n",
    "\n",
    "We can measure the average fidelity by doing the above calculation for multiple instances of Circuit 2."
   ]
  },
  {
   "cell_type": "code",
   "execution_count": 146,
   "metadata": {},
   "outputs": [],
   "source": [
    "N = 250 # Number of trials\n",
    "\n",
    "phi = np.array([(1.0+0.0j)/np.sqrt(2),0.0j,0.0j,(1.0+0.0j)/np.sqrt(2)])\n",
    "\n",
    "probs = np.linspace(0,0.5,20)\n",
    "\n",
    "F = []\n",
    "\n",
    "for prob in probs:\n",
    "    fidelities = []\n",
    "    for i in range(N):\n",
    "        circ = genCircuit2(prob)\n",
    "        psi = execute(circ,sv_sim).result().get_statevector()\n",
    "    \n",
    "        fidelities.append(np.abs(np.vdot(psi,phi))**2)\n",
    "    F.append(np.average(fidelities))"
   ]
  },
  {
   "cell_type": "markdown",
   "metadata": {},
   "source": [
    "Given that they occur immediately after the Hadamard gate, the $X$ and $Z$ errors can only map the output onto one of the Bell states. The inner product $\\langle\\phi|\\psi\\rangle = 1$ if $|\\psi\\rangle=|\\beta_{00}$, and 0 otherwise.\n",
    "\n",
    "The errors that don't alter the output are: $(I,I),(I,Z),(X,I),(X,X)$ and so the expected fidelity for Circuit 2 can be calculated:\n",
    "$$ F = (1-2p)^2 + (1-2p)p + p(1-2p) + p^2 = 1 - 2p + p^2 $$"
   ]
  },
  {
   "cell_type": "code",
   "execution_count": 176,
   "metadata": {},
   "outputs": [
    {
     "data": {
      "text/plain": [
       "<matplotlib.legend.Legend at 0x207c79b00c8>"
      ]
     },
     "execution_count": 176,
     "metadata": {},
     "output_type": "execute_result"
    },
    {
     "data": {
      "image/png": "[encoded data removed]",
      "text/plain": [
       "<Figure size 864x432 with 1 Axes>"
      ]
     },
     "metadata": {
      "needs_background": "light"
     },
     "output_type": "display_data"
    }
   ],
   "source": [
    "expected = 1 - 2*probs + probs**2 \n",
    "\n",
    "fig = plt.figure(figsize=(12,6))\n",
    "\n",
    "plt.title('Fidelity for Circuit 2')\n",
    "\n",
    "plt.plot(probs,F,label='Measured')\n",
    "plt.plot(probs,expected,label='Exptected')\n",
    "\n",
    "plt.xlabel('p')\n",
    "plt.ylabel('Fidelity')\n",
    "\n",
    "plt.ylim([0,1.05])\n",
    "\n",
    "plt.legend()"
   ]
  },
  {
   "cell_type": "markdown",
   "metadata": {},
   "source": [
    "### 3. Circuit prone to errors, with error correction\n",
    "\n"
   ]
  },
  {
   "cell_type": "code",
   "execution_count": null,
   "metadata": {},
   "outputs": [],
   "source": []
  }
 ],
 "metadata": {
  "kernelspec": {
   "display_name": "Python 3",
   "language": "python",
   "name": "python3"
  },
  "language_info": {
   "codemirror_mode": {
    "name": "ipython",
    "version": 3
   },
   "file_extension": ".py",
   "mimetype": "text/x-python",
   "name": "python",
   "nbconvert_exporter": "python",
   "pygments_lexer": "ipython3",
   "version": "3.7.9"
  }
 },
 "nbformat": 4,
 "nbformat_minor": 2
}
